{
 "cells": [
  {
   "cell_type": "code",
   "execution_count": 1,
   "id": "541cdab6-c6e9-43e5-9021-deed63b7759c",
   "metadata": {},
   "outputs": [],
   "source": [
    "import mnist_loader\n",
    "training_data, validation_data, test_data = \\\n",
    "mnist_loader.load_data_wrapper()"
   ]
  },
  {
   "cell_type": "code",
   "execution_count": 2,
   "id": "9bb090b8-edf8-4c8c-9c0c-ab97bdfc7ad2",
   "metadata": {},
   "outputs": [],
   "source": [
    "import network as nw"
   ]
  },
  {
   "cell_type": "code",
   "execution_count": 3,
   "id": "ce28223f-1852-406a-9d30-844f7fc11767",
   "metadata": {},
   "outputs": [
    {
     "name": "stdout",
     "output_type": "stream",
     "text": [
      "Época 0: 2006 / 10000\n",
      "Época 1: 2635 / 10000\n",
      "Época 2: 3136 / 10000\n",
      "Época 3: 3551 / 10000\n",
      "Época 4: 4079 / 10000\n",
      "Época 5: 4585 / 10000\n",
      "Época 6: 5040 / 10000\n",
      "Época 7: 5365 / 10000\n",
      "Época 8: 5673 / 10000\n",
      "Época 9: 5894 / 10000\n",
      "Época 10: 6107 / 10000\n",
      "Época 11: 6293 / 10000\n",
      "Época 12: 6438 / 10000\n",
      "Época 13: 6566 / 10000\n",
      "Época 14: 6677 / 10000\n",
      "Época 15: 6768 / 10000\n",
      "Época 16: 6865 / 10000\n",
      "Época 17: 6950 / 10000\n",
      "Época 18: 7039 / 10000\n",
      "Época 19: 7122 / 10000\n",
      "Época 20: 7219 / 10000\n",
      "Época 21: 7297 / 10000\n",
      "Época 22: 7403 / 10000\n",
      "Época 23: 7482 / 10000\n",
      "Época 24: 7570 / 10000\n",
      "Época 25: 7662 / 10000\n",
      "Época 26: 7735 / 10000\n",
      "Época 27: 7791 / 10000\n",
      "Época 28: 7849 / 10000\n",
      "Época 29: 7905 / 10000\n"
     ]
    }
   ],
   "source": [
    "net = nw.Network([784, 30, 10])\n",
    "net.SGD(training_data, 30, 10, 0.01, test_data=test_data)"
   ]
  }
 ],
 "metadata": {
  "kernelspec": {
   "display_name": "Python 3 (ipykernel)",
   "language": "python",
   "name": "python3"
  },
  "language_info": {
   "codemirror_mode": {
    "name": "ipython",
    "version": 3
   },
   "file_extension": ".py",
   "mimetype": "text/x-python",
   "name": "python",
   "nbconvert_exporter": "python",
   "pygments_lexer": "ipython3",
   "version": "3.10.12"
  }
 },
 "nbformat": 4,
 "nbformat_minor": 5
}
