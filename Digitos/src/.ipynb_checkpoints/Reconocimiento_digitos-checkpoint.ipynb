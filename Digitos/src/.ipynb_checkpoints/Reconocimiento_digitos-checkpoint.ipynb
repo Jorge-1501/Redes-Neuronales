{
 "cells": [
  {
   "cell_type": "markdown",
   "id": "669bd058-66a9-41c4-a1cc-40ff0a628dbc",
   "metadata": {},
   "source": [
    "## Código de la primera tarea"
   ]
  },
  {
   "cell_type": "code",
   "execution_count": 1,
   "id": "541cdab6-c6e9-43e5-9021-deed63b7759c",
   "metadata": {},
   "outputs": [],
   "source": [
    "# Librerías\n",
    "\n",
    "import mnist_loader\n",
    "import numpy as np\n",
    "import matplotlib.pyplot as plt"
   ]
  },
  {
   "cell_type": "code",
   "execution_count": 10,
   "id": "14324552-e410-42d0-bed2-9d95b2530f0a",
   "metadata": {},
   "outputs": [],
   "source": [
    "import network as nw"
   ]
  },
  {
   "cell_type": "code",
   "execution_count": 3,
   "id": "9bb090b8-edf8-4c8c-9c0c-ab97bdfc7ad2",
   "metadata": {},
   "outputs": [],
   "source": [
    "# Descarga de información\n",
    "\n",
    "training_data, validation_data, test_data = \\\n",
    "mnist_loader.load_data_wrapper()"
   ]
  },
  {
   "cell_type": "code",
   "execution_count": 3,
   "id": "ce28223f-1852-406a-9d30-844f7fc11767",
   "metadata": {},
   "outputs": [
    {
     "name": "stdout",
     "output_type": "stream",
     "text": [
      "Época 0: 1103 / 10000\n",
      "Época 1: 1356 / 10000\n",
      "Época 2: 1561 / 10000\n",
      "Época 3: 1848 / 10000\n",
      "Época 4: 2122 / 10000\n",
      "Época 5: 2365 / 10000\n",
      "Época 6: 2563 / 10000\n",
      "Época 7: 2741 / 10000\n",
      "Época 8: 2901 / 10000\n",
      "Época 9: 3066 / 10000\n",
      "Época 10: 3234 / 10000\n",
      "Época 11: 3382 / 10000\n",
      "Época 12: 3539 / 10000\n",
      "Época 13: 3670 / 10000\n",
      "Época 14: 3828 / 10000\n",
      "Época 15: 3999 / 10000\n",
      "Época 16: 4243 / 10000\n",
      "Época 17: 4466 / 10000\n",
      "Época 18: 4660 / 10000\n",
      "Época 19: 4800 / 10000\n",
      "Época 20: 4930 / 10000\n",
      "Época 21: 5042 / 10000\n",
      "Época 22: 5145 / 10000\n",
      "Época 23: 5226 / 10000\n",
      "Época 24: 5338 / 10000\n",
      "Época 25: 5461 / 10000\n",
      "Época 26: 5589 / 10000\n",
      "Época 27: 5699 / 10000\n",
      "Época 28: 5814 / 10000\n",
      "Época 29: 5914 / 10000\n"
     ]
    }
   ],
   "source": [
    "# Entrenamiento de red\n",
    "\n",
    "net = nw.Network([784, 30, 10])\n",
    "net.SGD(training_data, 30, 10, 0.01, test_data=test_data)"
   ]
  },
  {
   "cell_type": "markdown",
   "id": "46beabaf-fb70-439a-a4eb-dd97066962d4",
   "metadata": {},
   "source": [
    "## Código de la segunda tarea"
   ]
  },
  {
   "cell_type": "markdown",
   "id": "ca7c9f26-c80c-4e82-8baa-38f7f10dfe02",
   "metadata": {
    "tags": []
   },
   "source": [
    "## Implementación de optimizador SGD con momento"
   ]
  },
  {
   "cell_type": "code",
   "execution_count": 8,
   "id": "e7c45608-9b62-4d18-8b2a-96b1767ef61e",
   "metadata": {
    "tags": []
   },
   "outputs": [
    {
     "data": {
      "text/plain": [
       "<module 'network' from '/home/jorge_t/Documentos/Física/Redes Neuronales/Proyecto_1/Redes-Neuronales/Digitos/src/network.py'>"
      ]
     },
     "execution_count": 8,
     "metadata": {},
     "output_type": "execute_result"
    }
   ],
   "source": [
    "# Python 3\n",
    "from importlib import reload\n",
    "import network as nw\n",
    "reload(nw)"
   ]
  },
  {
   "cell_type": "code",
   "execution_count": 17,
   "id": "ca72baaf-30d4-4437-baea-b6b2a7c87397",
   "metadata": {
    "tags": []
   },
   "outputs": [
    {
     "name": "stdout",
     "output_type": "stream",
     "text": [
      "Época 0: 1094 / 10000\n",
      "Época 1: 1284 / 10000\n",
      "Época 2: 1287 / 10000\n",
      "Época 3: 1272 / 10000\n",
      "Época 4: 1242 / 10000\n",
      "Época 5: 1261 / 10000\n",
      "Época 6: 1239 / 10000\n",
      "Época 7: 1232 / 10000\n",
      "Época 8: 1224 / 10000\n",
      "Época 9: 1204 / 10000\n",
      "Época 10: 1198 / 10000\n",
      "Época 11: 1196 / 10000\n",
      "Época 12: 1192 / 10000\n",
      "Época 13: 1187 / 10000\n",
      "Época 14: 1181 / 10000\n",
      "Época 15: 1167 / 10000\n",
      "Época 16: 1159 / 10000\n",
      "Época 17: 1162 / 10000\n",
      "Época 18: 1162 / 10000\n",
      "Época 19: 1154 / 10000\n",
      "Época 20: 1149 / 10000\n",
      "Época 21: 1147 / 10000\n",
      "Época 22: 1148 / 10000\n",
      "Época 23: 1149 / 10000\n",
      "Época 24: 1152 / 10000\n",
      "Época 25: 1146 / 10000\n",
      "Época 26: 1145 / 10000\n",
      "Época 27: 1143 / 10000\n",
      "Época 28: 1149 / 10000\n",
      "Época 29: 1151 / 10000\n"
     ]
    }
   ],
   "source": [
    "net2 = nw.Network([784, 30, 10])\n",
    "\n",
    "# Se dejó el nombre de SGD para no alterar todo el código, pero es SGD con momento\n",
    "net2.SGD_M(training_data, 30, 10, 0.005, 0.95, test_data=test_data)"
   ]
  },
  {
   "cell_type": "markdown",
   "id": "da7c7fef-7084-4cce-b978-a704a3ab7b9f",
   "metadata": {},
   "source": [
    "### RMSprop"
   ]
  },
  {
   "cell_type": "code",
   "execution_count": 19,
   "id": "72fa9664-84c8-4eae-b6db-0d39b9b17aa6",
   "metadata": {
    "tags": []
   },
   "outputs": [
    {
     "name": "stdout",
     "output_type": "stream",
     "text": [
      "Época 0: 1130 / 10000\n",
      "Época 1: 1528 / 10000\n",
      "Época 2: 1618 / 10000\n",
      "Época 3: 1819 / 10000\n",
      "Época 4: 1939 / 10000\n",
      "Época 5: 1915 / 10000\n",
      "Época 6: 1969 / 10000\n",
      "Época 7: 1979 / 10000\n",
      "Época 8: 2078 / 10000\n",
      "Época 9: 2045 / 10000\n",
      "Época 10: 2096 / 10000\n",
      "Época 11: 2014 / 10000\n",
      "Época 12: 2095 / 10000\n",
      "Época 13: 2194 / 10000\n",
      "Época 14: 2147 / 10000\n",
      "Época 15: 2102 / 10000\n",
      "Época 16: 2085 / 10000\n",
      "Época 17: 2115 / 10000\n",
      "Época 18: 2168 / 10000\n",
      "Época 19: 2188 / 10000\n",
      "Época 20: 2096 / 10000\n",
      "Época 21: 2059 / 10000\n",
      "Época 22: 2117 / 10000\n",
      "Época 23: 2228 / 10000\n",
      "Época 24: 2194 / 10000\n",
      "Época 25: 2207 / 10000\n",
      "Época 26: 2188 / 10000\n",
      "Época 27: 2180 / 10000\n",
      "Época 28: 2189 / 10000\n",
      "Época 29: 2177 / 10000\n"
     ]
    }
   ],
   "source": [
    "net3 = nw.Network([784, 30, 10])\n",
    "\n",
    "net3.RMSprop(training_data, 30, 10, 0.001, 0.9, 1e-8, test_data=test_data)"
   ]
  },
  {
   "cell_type": "code",
   "execution_count": 23,
   "id": "5db24f6e-fe5c-4126-9f54-1a5b4d145e7f",
   "metadata": {},
   "outputs": [
    {
     "name": "stdout",
     "output_type": "stream",
     "text": [
      "Época 0: 852 / 10000\n",
      "Época 1: 887 / 10000\n",
      "Época 2: 948 / 10000\n",
      "Época 3: 1004 / 10000\n",
      "Época 4: 1038 / 10000\n",
      "Época 5: 1056 / 10000\n",
      "Época 6: 1100 / 10000\n",
      "Época 7: 1130 / 10000\n",
      "Época 8: 1172 / 10000\n",
      "Época 9: 1192 / 10000\n",
      "Época 10: 1228 / 10000\n",
      "Época 11: 1255 / 10000\n",
      "Época 12: 1303 / 10000\n",
      "Época 13: 1345 / 10000\n",
      "Época 14: 1368 / 10000\n",
      "Época 15: 1411 / 10000\n",
      "Época 16: 1443 / 10000\n",
      "Época 17: 1460 / 10000\n",
      "Época 18: 1476 / 10000\n",
      "Época 19: 1472 / 10000\n",
      "Época 20: 1494 / 10000\n",
      "Época 21: 1544 / 10000\n",
      "Época 22: 1580 / 10000\n",
      "Época 23: 1614 / 10000\n",
      "Época 24: 1639 / 10000\n",
      "Época 25: 1666 / 10000\n",
      "Época 26: 1647 / 10000\n",
      "Época 27: 1689 / 10000\n",
      "Época 28: 1790 / 10000\n",
      "Época 29: 1771 / 10000\n"
     ]
    }
   ],
   "source": [
    "net4 = nw.Network([784, 30, 10])\n",
    "\n",
    "net4.RMSprop(training_data, 30, 10, 0.0001, 0.90, 1e-8, test_data=test_data)"
   ]
  },
  {
   "cell_type": "code",
   "execution_count": 27,
   "id": "805c31db-5f7d-4b42-b2b8-27c0a25c31e2",
   "metadata": {},
   "outputs": [
    {
     "name": "stdout",
     "output_type": "stream",
     "text": [
      "Época 0: 1094 / 10000\n",
      "Época 1: 1115 / 10000\n",
      "Época 2: 1472 / 10000\n",
      "Época 3: 1696 / 10000\n",
      "Época 4: 1968 / 10000\n",
      "Época 5: 2022 / 10000\n",
      "Época 6: 2102 / 10000\n",
      "Época 7: 2205 / 10000\n",
      "Época 8: 2206 / 10000\n",
      "Época 9: 2171 / 10000\n",
      "Época 10: 2291 / 10000\n",
      "Época 11: 2239 / 10000\n",
      "Época 12: 2093 / 10000\n",
      "Época 13: 2274 / 10000\n",
      "Época 14: 2292 / 10000\n",
      "Época 15: 2326 / 10000\n",
      "Época 16: 2244 / 10000\n",
      "Época 17: 2290 / 10000\n",
      "Época 18: 1971 / 10000\n",
      "Época 19: 1938 / 10000\n",
      "Época 20: 2056 / 10000\n",
      "Época 21: 2029 / 10000\n",
      "Época 22: 1967 / 10000\n",
      "Época 23: 1893 / 10000\n",
      "Época 24: 1865 / 10000\n",
      "Época 25: 1967 / 10000\n",
      "Época 26: 1997 / 10000\n",
      "Época 27: 2019 / 10000\n",
      "Época 28: 1870 / 10000\n",
      "Época 29: 1819 / 10000\n"
     ]
    }
   ],
   "source": [
    "net5 = nw.Network([784, 30, 10])\n",
    "\n",
    "net5.RMSprop(training_data, 30, 10, 0.001, 0.9, 1e-7, test_data=test_data)"
   ]
  }
 ],
 "metadata": {
  "kernelspec": {
   "display_name": "Python 3 (ipykernel)",
   "language": "python",
   "name": "python3"
  },
  "language_info": {
   "codemirror_mode": {
    "name": "ipython",
    "version": 3
   },
   "file_extension": ".py",
   "mimetype": "text/x-python",
   "name": "python",
   "nbconvert_exporter": "python",
   "pygments_lexer": "ipython3",
   "version": "3.10.9"
  }
 },
 "nbformat": 4,
 "nbformat_minor": 5
}
