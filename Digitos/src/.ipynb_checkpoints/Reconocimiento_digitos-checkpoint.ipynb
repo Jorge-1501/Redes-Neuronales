{
 "cells": [
  {
   "cell_type": "code",
   "execution_count": 1,
   "id": "541cdab6-c6e9-43e5-9021-deed63b7759c",
   "metadata": {},
   "outputs": [],
   "source": [
    "# Librerías\n",
    "\n",
    "import mnist_loader\n",
    "import numpy as np\n",
    "import matplotlib.pyplot as plt\n",
    "import network as nw"
   ]
  },
  {
   "cell_type": "code",
   "execution_count": 2,
   "id": "9bb090b8-edf8-4c8c-9c0c-ab97bdfc7ad2",
   "metadata": {},
   "outputs": [],
   "source": [
    "# Descarga de información\n",
    "\n",
    "training_data, validation_data, test_data = \\\n",
    "mnist_loader.load_data_wrapper()"
   ]
  },
  {
   "cell_type": "code",
   "execution_count": 3,
   "id": "ce28223f-1852-406a-9d30-844f7fc11767",
   "metadata": {},
   "outputs": [
    {
     "name": "stdout",
     "output_type": "stream",
     "text": [
      "Época 0: 1103 / 10000\n",
      "Época 1: 1356 / 10000\n",
      "Época 2: 1561 / 10000\n",
      "Época 3: 1848 / 10000\n",
      "Época 4: 2122 / 10000\n",
      "Época 5: 2365 / 10000\n",
      "Época 6: 2563 / 10000\n",
      "Época 7: 2741 / 10000\n",
      "Época 8: 2901 / 10000\n",
      "Época 9: 3066 / 10000\n",
      "Época 10: 3234 / 10000\n",
      "Época 11: 3382 / 10000\n",
      "Época 12: 3539 / 10000\n",
      "Época 13: 3670 / 10000\n",
      "Época 14: 3828 / 10000\n",
      "Época 15: 3999 / 10000\n",
      "Época 16: 4243 / 10000\n",
      "Época 17: 4466 / 10000\n",
      "Época 18: 4660 / 10000\n",
      "Época 19: 4800 / 10000\n",
      "Época 20: 4930 / 10000\n",
      "Época 21: 5042 / 10000\n",
      "Época 22: 5145 / 10000\n",
      "Época 23: 5226 / 10000\n",
      "Época 24: 5338 / 10000\n",
      "Época 25: 5461 / 10000\n",
      "Época 26: 5589 / 10000\n",
      "Época 27: 5699 / 10000\n",
      "Época 28: 5814 / 10000\n",
      "Época 29: 5914 / 10000\n"
     ]
    }
   ],
   "source": [
    "# Entrenamiento de red\n",
    "\n",
    "net = nw.Network([784, 30, 10])\n",
    "net.SGD(training_data, 30, 10, 0.01, test_data=test_data)"
   ]
  }
 ],
 "metadata": {
  "kernelspec": {
   "display_name": "Python 3 (ipykernel)",
   "language": "python",
   "name": "python3"
  },
  "language_info": {
   "codemirror_mode": {
    "name": "ipython",
    "version": 3
   },
   "file_extension": ".py",
   "mimetype": "text/x-python",
   "name": "python",
   "nbconvert_exporter": "python",
   "pygments_lexer": "ipython3",
   "version": "3.10.12"
  }
 },
 "nbformat": 4,
 "nbformat_minor": 5
}
